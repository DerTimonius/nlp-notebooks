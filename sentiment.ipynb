{
 "cells": [
  {
   "attachments": {},
   "cell_type": "markdown",
   "metadata": {},
   "source": [
    "# Sentiment Analysis\n",
    "\n",
    "A significant part of `natural language processing` NLP) is the sentiment analysis of a given text - that could be as simple as an email, a comment under a YT video or whole books.\n",
    "There are different methods of approaching this problem, the most common ones are `VADER` and `BERT` (or Roberta pretrained models).\n",
    "\n",
    "Let's compare them using Amazon Reviews!\n",
    "\n",
    "\n",
    "## Importing stuff and reading data"
   ]
  },
  {
   "cell_type": "code",
   "execution_count": 1,
   "metadata": {},
   "outputs": [],
   "source": [
    "import pandas as pd\n",
    "import numpy as np\n",
    "import matplotlib.pyplot as plt\n",
    "import seaborn as sns\n",
    "\n",
    "df = pd.read_csv(\"./datasets/Reviews.csv\")\n",
    "df = df.head(1000)"
   ]
  },
  {
   "cell_type": "code",
   "execution_count": 2,
   "metadata": {},
   "outputs": [
    {
     "data": {
      "text/html": [
       "<div>\n",
       "<style scoped>\n",
       "    .dataframe tbody tr th:only-of-type {\n",
       "        vertical-align: middle;\n",
       "    }\n",
       "\n",
       "    .dataframe tbody tr th {\n",
       "        vertical-align: top;\n",
       "    }\n",
       "\n",
       "    .dataframe thead th {\n",
       "        text-align: right;\n",
       "    }\n",
       "</style>\n",
       "<table border=\"1\" class=\"dataframe\">\n",
       "  <thead>\n",
       "    <tr style=\"text-align: right;\">\n",
       "      <th></th>\n",
       "      <th>Id</th>\n",
       "      <th>ProductId</th>\n",
       "      <th>UserId</th>\n",
       "      <th>ProfileName</th>\n",
       "      <th>HelpfulnessNumerator</th>\n",
       "      <th>HelpfulnessDenominator</th>\n",
       "      <th>Score</th>\n",
       "      <th>Time</th>\n",
       "      <th>Summary</th>\n",
       "      <th>Text</th>\n",
       "    </tr>\n",
       "  </thead>\n",
       "  <tbody>\n",
       "    <tr>\n",
       "      <th>0</th>\n",
       "      <td>1</td>\n",
       "      <td>B001E4KFG0</td>\n",
       "      <td>A3SGXH7AUHU8GW</td>\n",
       "      <td>delmartian</td>\n",
       "      <td>1</td>\n",
       "      <td>1</td>\n",
       "      <td>5</td>\n",
       "      <td>1303862400</td>\n",
       "      <td>Good Quality Dog Food</td>\n",
       "      <td>I have bought several of the Vitality canned d...</td>\n",
       "    </tr>\n",
       "    <tr>\n",
       "      <th>1</th>\n",
       "      <td>2</td>\n",
       "      <td>B00813GRG4</td>\n",
       "      <td>A1D87F6ZCVE5NK</td>\n",
       "      <td>dll pa</td>\n",
       "      <td>0</td>\n",
       "      <td>0</td>\n",
       "      <td>1</td>\n",
       "      <td>1346976000</td>\n",
       "      <td>Not as Advertised</td>\n",
       "      <td>Product arrived labeled as Jumbo Salted Peanut...</td>\n",
       "    </tr>\n",
       "    <tr>\n",
       "      <th>2</th>\n",
       "      <td>3</td>\n",
       "      <td>B000LQOCH0</td>\n",
       "      <td>ABXLMWJIXXAIN</td>\n",
       "      <td>Natalia Corres \"Natalia Corres\"</td>\n",
       "      <td>1</td>\n",
       "      <td>1</td>\n",
       "      <td>4</td>\n",
       "      <td>1219017600</td>\n",
       "      <td>\"Delight\" says it all</td>\n",
       "      <td>This is a confection that has been around a fe...</td>\n",
       "    </tr>\n",
       "    <tr>\n",
       "      <th>3</th>\n",
       "      <td>4</td>\n",
       "      <td>B000UA0QIQ</td>\n",
       "      <td>A395BORC6FGVXV</td>\n",
       "      <td>Karl</td>\n",
       "      <td>3</td>\n",
       "      <td>3</td>\n",
       "      <td>2</td>\n",
       "      <td>1307923200</td>\n",
       "      <td>Cough Medicine</td>\n",
       "      <td>If you are looking for the secret ingredient i...</td>\n",
       "    </tr>\n",
       "    <tr>\n",
       "      <th>4</th>\n",
       "      <td>5</td>\n",
       "      <td>B006K2ZZ7K</td>\n",
       "      <td>A1UQRSCLF8GW1T</td>\n",
       "      <td>Michael D. Bigham \"M. Wassir\"</td>\n",
       "      <td>0</td>\n",
       "      <td>0</td>\n",
       "      <td>5</td>\n",
       "      <td>1350777600</td>\n",
       "      <td>Great taffy</td>\n",
       "      <td>Great taffy at a great price.  There was a wid...</td>\n",
       "    </tr>\n",
       "  </tbody>\n",
       "</table>\n",
       "</div>"
      ],
      "text/plain": [
       "   Id   ProductId          UserId                      ProfileName  \\\n",
       "0   1  B001E4KFG0  A3SGXH7AUHU8GW                       delmartian   \n",
       "1   2  B00813GRG4  A1D87F6ZCVE5NK                           dll pa   \n",
       "2   3  B000LQOCH0   ABXLMWJIXXAIN  Natalia Corres \"Natalia Corres\"   \n",
       "3   4  B000UA0QIQ  A395BORC6FGVXV                             Karl   \n",
       "4   5  B006K2ZZ7K  A1UQRSCLF8GW1T    Michael D. Bigham \"M. Wassir\"   \n",
       "\n",
       "   HelpfulnessNumerator  HelpfulnessDenominator  Score        Time  \\\n",
       "0                     1                       1      5  1303862400   \n",
       "1                     0                       0      1  1346976000   \n",
       "2                     1                       1      4  1219017600   \n",
       "3                     3                       3      2  1307923200   \n",
       "4                     0                       0      5  1350777600   \n",
       "\n",
       "                 Summary                                               Text  \n",
       "0  Good Quality Dog Food  I have bought several of the Vitality canned d...  \n",
       "1      Not as Advertised  Product arrived labeled as Jumbo Salted Peanut...  \n",
       "2  \"Delight\" says it all  This is a confection that has been around a fe...  \n",
       "3         Cough Medicine  If you are looking for the secret ingredient i...  \n",
       "4            Great taffy  Great taffy at a great price.  There was a wid...  "
      ]
     },
     "execution_count": 2,
     "metadata": {},
     "output_type": "execute_result"
    }
   ],
   "source": [
    "df.head()"
   ]
  },
  {
   "attachments": {},
   "cell_type": "markdown",
   "metadata": {},
   "source": [
    "Let's take a quick look at the data at hand - how many times do we have what score?"
   ]
  },
  {
   "cell_type": "code",
   "execution_count": 3,
   "metadata": {},
   "outputs": [
    {
     "data": {
      "image/png": "[encoded data removed]",
      "text/plain": [
       "<Figure size 1000x500 with 1 Axes>"
      ]
     },
     "metadata": {},
     "output_type": "display_data"
    }
   ],
   "source": [
    "plt.style.use(\"ggplot\")\n",
    "\n",
    "axis = df[\"Score\"].value_counts().sort_index().plot(kind=\"bar\", title=\"Amazon Review Scores\", figsize=(10, 5))\n",
    "axis.set_xlabel(\"Stars\")\n",
    "plt.show()"
   ]
  },
  {
   "attachments": {},
   "cell_type": "markdown",
   "metadata": {},
   "source": [
    "So, there are a lot of 5 star reviews with a steady decline and another uptick at the 1 star level.\n",
    "\n",
    "## NLTK action\n",
    "\n",
    "We could try just throwing the reviews as they are at the computer, but that might not be useful. Sometimes things get abbr., sometimes they are not. Or aren't.  \n",
    "\n",
    "### Tokenization\n",
    "\n",
    "First we split the sentences in seperate tokens."
   ]
  },
  {
   "cell_type": "code",
   "execution_count": 4,
   "metadata": {},
   "outputs": [
    {
     "name": "stdout",
     "output_type": "stream",
     "text": [
      "I subscribed to these - one case every three months. That comes out to about $5 a month for the convenience of having my favorite chips handy whenever I want. Because it seems Frito-Lay has managed to crowd out every other chip vendor from pretty much all my local stores this is the best way to ensure a steady supply of the items I want rather than the items Frito-Lay wants me to have. The two ounce bags are larger than you might be used to buying at the Subway (for example) which I find works very well - they're large enough to be a good snack on their own, or you can even share a single bag over lunch. The size is perfect for ensuring these fantastically crunchy chips are always fresh - no chip clip needed!<br /><br />The only problem? I subscribed to four cases a year and having these yummy chips always in the pantry makes it really easy to increase ones Kettle chip consumption. Definitely have to hide the case from the kids!\n"
     ]
    }
   ],
   "source": [
    "example_sentence = df[\"Text\"][450]\n",
    "print(example_sentence)"
   ]
  },
  {
   "cell_type": "code",
   "execution_count": 5,
   "metadata": {},
   "outputs": [],
   "source": [
    "import nltk"
   ]
  },
  {
   "cell_type": "code",
   "execution_count": 6,
   "metadata": {},
   "outputs": [
    {
     "name": "stdout",
     "output_type": "stream",
     "text": [
      "['I', 'subscribed', 'to', 'these', '-', 'one', 'case', 'every', 'three', 'months', '.', 'That', 'comes', 'out', 'to', 'about', '$', '5', 'a', 'month', 'for', 'the', 'convenience', 'of', 'having', 'my', 'favorite', 'chips', 'handy', 'whenever', 'I', 'want', '.', 'Because', 'it', 'seems', 'Frito-Lay', 'has', 'managed', 'to', 'crowd', 'out', 'every', 'other', 'chip', 'vendor', 'from', 'pretty', 'much', 'all', 'my', 'local', 'stores', 'this', 'is', 'the', 'best', 'way', 'to', 'ensure', 'a', 'steady', 'supply', 'of', 'the', 'items', 'I', 'want', 'rather', 'than', 'the', 'items', 'Frito-Lay', 'wants', 'me', 'to', 'have', '.', 'The', 'two', 'ounce', 'bags', 'are', 'larger', 'than', 'you', 'might', 'be', 'used', 'to', 'buying', 'at', 'the', 'Subway', '(', 'for', 'example', ')', 'which', 'I', 'find', 'works', 'very', 'well', '-', 'they', \"'re\", 'large', 'enough', 'to', 'be', 'a', 'good', 'snack', 'on', 'their', 'own', ',', 'or', 'you', 'can', 'even', 'share', 'a', 'single', 'bag', 'over', 'lunch', '.', 'The', 'size', 'is', 'perfect', 'for', 'ensuring', 'these', 'fantastically', 'crunchy', 'chips', 'are', 'always', 'fresh', '-', 'no', 'chip', 'clip', 'needed', '!', '<', 'br', '/', '>', '<', 'br', '/', '>', 'The', 'only', 'problem', '?', 'I', 'subscribed', 'to', 'four', 'cases', 'a', 'year', 'and', 'having', 'these', 'yummy', 'chips', 'always', 'in', 'the', 'pantry', 'makes', 'it', 'really', 'easy', 'to', 'increase', 'ones', 'Kettle', 'chip', 'consumption', '.', 'Definitely', 'have', 'to', 'hide', 'the', 'case', 'from', 'the', 'kids', '!']\n"
     ]
    }
   ],
   "source": [
    "tokenized_sentence = nltk.word_tokenize(example_sentence)\n",
    "print(tokenized_sentence)"
   ]
  },
  {
   "attachments": {},
   "cell_type": "markdown",
   "metadata": {},
   "source": [
    "In this case the difference is not that big. But if we take a close look at the separation of `they're` to `they'` and `'re` - that's what's needed. \n",
    "\n",
    "### Part-of-speech tagging\n",
    "\n",
    "In the next step we can tag the individual tokens to their respective part of speech."
   ]
  },
  {
   "cell_type": "code",
   "execution_count": 7,
   "metadata": {},
   "outputs": [
    {
     "data": {
      "text/plain": [
       "[('I', 'PRP'),\n",
       " ('subscribed', 'VBD'),\n",
       " ('to', 'TO'),\n",
       " ('these', 'DT'),\n",
       " ('-', ':'),\n",
       " ('one', 'CD'),\n",
       " ('case', 'NN'),\n",
       " ('every', 'DT'),\n",
       " ('three', 'CD'),\n",
       " ('months', 'NNS'),\n",
       " ('.', '.'),\n",
       " ('That', 'DT'),\n",
       " ('comes', 'VBZ'),\n",
       " ('out', 'RP'),\n",
       " ('to', 'TO'),\n",
       " ('about', 'IN'),\n",
       " ('$', '$'),\n",
       " ('5', 'CD'),\n",
       " ('a', 'DT'),\n",
       " ('month', 'NN'),\n",
       " ('for', 'IN'),\n",
       " ('the', 'DT'),\n",
       " ('convenience', 'NN'),\n",
       " ('of', 'IN'),\n",
       " ('having', 'VBG')]"
      ]
     },
     "execution_count": 7,
     "metadata": {},
     "output_type": "execute_result"
    }
   ],
   "source": [
    "tagged_tokens = nltk.pos_tag(tokenized_sentence)\n",
    "tagged_tokens[:25]"
   ]
  },
  {
   "attachments": {},
   "cell_type": "markdown",
   "metadata": {},
   "source": [
    "Some of the tags here are for example:\n",
    "* NN --> Noun\n",
    "* DT --> Determiner\n",
    "* VB --> Verb\n",
    "* JJ --> Adjective\n",
    "\n",
    "A full list of tags can be seen [here](https://www.ling.upenn.edu/courses/Fall_2003/ling001/penn_treebank_pos.html).\n",
    "\n",
    "Now on to chunking the tokens!"
   ]
  },
  {
   "cell_type": "code",
   "execution_count": 8,
   "metadata": {},
   "outputs": [
    {
     "name": "stdout",
     "output_type": "stream",
     "text": [
      "(S\n",
      "  I/PRP\n",
      "  subscribed/VBD\n",
      "  to/TO\n",
      "  these/DT\n",
      "  -/:\n",
      "  one/CD\n",
      "  case/NN\n",
      "  every/DT\n",
      "  three/CD\n",
      "  months/NNS\n",
      "  ./.\n",
      "  That/DT\n",
      "  comes/VBZ\n",
      "  out/RP\n",
      "  to/TO\n",
      "  about/IN\n",
      "  $/$\n",
      "  5/CD\n",
      "  a/DT\n",
      "  month/NN\n",
      "  for/IN\n",
      "  the/DT\n",
      "  convenience/NN\n",
      "  of/IN\n",
      "  having/VBG\n",
      "  my/PRP$\n",
      "  favorite/JJ\n",
      "  chips/NNS\n",
      "  handy/VBP\n",
      "  whenever/WRB\n",
      "  I/PRP\n",
      "  want/VBP\n",
      "  ./.\n",
      "  Because/IN\n",
      "  it/PRP\n",
      "  seems/VBZ\n",
      "  Frito-Lay/NNP\n",
      "  has/VBZ\n",
      "  managed/VBN\n",
      "  to/TO\n",
      "  crowd/VB\n",
      "  out/RP\n",
      "  every/DT\n",
      "  other/JJ\n",
      "  chip/NN\n",
      "  vendor/NN\n",
      "  from/IN\n",
      "  pretty/RB\n",
      "  much/JJ\n",
      "  all/DT\n",
      "  my/PRP$\n",
      "  local/JJ\n",
      "  stores/NNS\n",
      "  this/DT\n",
      "  is/VBZ\n",
      "  the/DT\n",
      "  best/JJS\n",
      "  way/NN\n",
      "  to/TO\n",
      "  ensure/VB\n",
      "  a/DT\n",
      "  steady/JJ\n",
      "  supply/NN\n",
      "  of/IN\n",
      "  the/DT\n",
      "  items/NNS\n",
      "  I/PRP\n",
      "  want/VBP\n",
      "  rather/RB\n",
      "  than/IN\n",
      "  the/DT\n",
      "  items/NNS\n",
      "  Frito-Lay/NNP\n",
      "  wants/VBZ\n",
      "  me/PRP\n",
      "  to/TO\n",
      "  have/VB\n",
      "  ./.\n",
      "  The/DT\n",
      "  two/CD\n",
      "  ounce/NN\n",
      "  bags/NNS\n",
      "  are/VBP\n",
      "  larger/JJR\n",
      "  than/IN\n",
      "  you/PRP\n",
      "  might/MD\n",
      "  be/VB\n",
      "  used/VBN\n",
      "  to/TO\n",
      "  buying/VBG\n",
      "  at/IN\n",
      "  the/DT\n",
      "  (GPE Subway/NNP)\n",
      "  (/(\n",
      "  for/IN\n",
      "  example/NN\n",
      "  )/)\n",
      "  which/WDT\n",
      "  I/PRP\n",
      "  find/VBP\n",
      "  works/JJ\n",
      "  very/RB\n",
      "  well/RB\n",
      "  -/:\n",
      "  they/PRP\n",
      "  're/VBP\n",
      "  large/JJ\n",
      "  enough/RB\n",
      "  to/TO\n",
      "  be/VB\n",
      "  a/DT\n",
      "  good/JJ\n",
      "  snack/NN\n",
      "  on/IN\n",
      "  their/PRP$\n",
      "  own/JJ\n",
      "  ,/,\n",
      "  or/CC\n",
      "  you/PRP\n",
      "  can/MD\n",
      "  even/RB\n",
      "  share/NN\n",
      "  a/DT\n",
      "  single/JJ\n",
      "  bag/NN\n",
      "  over/IN\n",
      "  lunch/NN\n",
      "  ./.\n",
      "  The/DT\n",
      "  size/NN\n",
      "  is/VBZ\n",
      "  perfect/JJ\n",
      "  for/IN\n",
      "  ensuring/VBG\n",
      "  these/DT\n",
      "  fantastically/RB\n",
      "  crunchy/JJ\n",
      "  chips/NNS\n",
      "  are/VBP\n",
      "  always/RB\n",
      "  fresh/JJ\n",
      "  -/:\n",
      "  no/DT\n",
      "  chip/NN\n",
      "  clip/NN\n",
      "  needed/VBD\n",
      "  !/.\n",
      "  </JJ\n",
      "  br/NN\n",
      "  //NNP\n",
      "  >/NNP\n",
      "  </NNP\n",
      "  br/NN\n",
      "  //NNP\n",
      "  >/VBZ\n",
      "  The/DT\n",
      "  only/JJ\n",
      "  problem/NN\n",
      "  ?/.\n",
      "  I/PRP\n",
      "  subscribed/VBD\n",
      "  to/TO\n",
      "  four/CD\n",
      "  cases/NNS\n",
      "  a/DT\n",
      "  year/NN\n",
      "  and/CC\n",
      "  having/VBG\n",
      "  these/DT\n",
      "  yummy/JJ\n",
      "  chips/NNS\n",
      "  always/RB\n",
      "  in/IN\n",
      "  the/DT\n",
      "  pantry/NN\n",
      "  makes/VBZ\n",
      "  it/PRP\n",
      "  really/RB\n",
      "  easy/JJ\n",
      "  to/TO\n",
      "  increase/VB\n",
      "  ones/NNS\n",
      "  (GPE Kettle/NNP)\n",
      "  chip/NN\n",
      "  consumption/NN\n",
      "  ./.\n",
      "  Definitely/RB\n",
      "  have/VBP\n",
      "  to/TO\n",
      "  hide/VB\n",
      "  the/DT\n",
      "  case/NN\n",
      "  from/IN\n",
      "  the/DT\n",
      "  kids/NNS\n",
      "  !/.)\n"
     ]
    }
   ],
   "source": [
    "chunked_entities = nltk.chunk.ne_chunk(tagged_tokens)\n",
    "chunked_entities.pprint()"
   ]
  },
  {
   "attachments": {},
   "cell_type": "markdown",
   "metadata": {},
   "source": [
    "## The VADER approach\n",
    "\n",
    "VADER is an acronym for `Valence Aware Dictionary and sEntiment Reasoner` (yeah, it's a weird one). It uses the `bag-of-word` approach which means that it analyzes the text and looks for the frequency of the words (that's the reason for the tokenization).\n",
    "\n",
    "#### ML Sidenote\n",
    "\n",
    "This approach is further used with a `CountVectorizer` or a `Tf-Idf-Vectorizer` - both methods look at the frequency of words to look for differences and similarities.\n",
    "\n",
    "Let's check the `SentimentIntensityAnalyzer`:"
   ]
  },
  {
   "cell_type": "code",
   "execution_count": 9,
   "metadata": {},
   "outputs": [],
   "source": [
    "from nltk.sentiment import SentimentIntensityAnalyzer\n",
    "from tqdm.notebook import tqdm\n",
    "\n",
    "sia = SentimentIntensityAnalyzer()"
   ]
  },
  {
   "cell_type": "code",
   "execution_count": 10,
   "metadata": {},
   "outputs": [
    {
     "data": {
      "text/plain": [
       "{'neg': 0.0, 'neu': 0.324, 'pos': 0.676, 'compound': 0.854}"
      ]
     },
     "execution_count": 10,
     "metadata": {},
     "output_type": "execute_result"
    }
   ],
   "source": [
    "sia.polarity_scores(\"I feel really great and happy today\")"
   ]
  },
  {
   "cell_type": "code",
   "execution_count": 11,
   "metadata": {},
   "outputs": [
    {
     "data": {
      "text/plain": [
       "{'neg': 0.615, 'neu': 0.385, 'pos': 0.0, 'compound': -0.6588}"
      ]
     },
     "execution_count": 11,
     "metadata": {},
     "output_type": "execute_result"
    }
   ],
   "source": [
    "sia.polarity_scores(\"I am grumpy and tired, leave me alone!\")"
   ]
  },
  {
   "attachments": {},
   "cell_type": "markdown",
   "metadata": {},
   "source": [
    "As one might guess, the annotations mean `negative`, `neutral` and `positive` and are scores from 0 to 1. The `compound` is a calculated value, with 0.0 being a completly neutral sentence, going into -0.(...) when it's negative and +0.(...) when it's positive.\n",
    "The example sentence from further up get's the following scores:"
   ]
  },
  {
   "cell_type": "code",
   "execution_count": 12,
   "metadata": {},
   "outputs": [
    {
     "data": {
      "text/plain": [
       "{'neg': 0.034, 'neu': 0.743, 'pos': 0.223, 'compound': 0.9873}"
      ]
     },
     "execution_count": 12,
     "metadata": {},
     "output_type": "execute_result"
    }
   ],
   "source": [
    "sia.polarity_scores(example_sentence)"
   ]
  },
  {
   "attachments": {},
   "cell_type": "markdown",
   "metadata": {},
   "source": [
    "So it's seems like it's a pretty positive review if we're just looking at the scores. Let's do some comparison against the score of the review for the whole dataframe:"
   ]
  },
  {
   "cell_type": "code",
   "execution_count": 14,
   "metadata": {},
   "outputs": [
    {
     "data": {
      "application/vnd.jupyter.widget-view+json": {
       "model_id": "eb73a91c543c43c6b9bf95eb12dec334",
       "version_major": 2,
       "version_minor": 0
      },
      "text/plain": [
       "  0%|          | 0/1000 [00:00<?, ?it/s]"
      ]
     },
     "metadata": {},
     "output_type": "display_data"
    }
   ],
   "source": [
    "vader_result = {}\n",
    "for i, row in tqdm(df.iterrows(), total=len(df)):\n",
    "  text = row[\"Text\"]\n",
    "  myId = row[\"Id\"]\n",
    "  vader_result[myId] = sia.polarity_scores(text)"
   ]
  },
  {
   "cell_type": "code",
   "execution_count": 15,
   "metadata": {},
   "outputs": [],
   "source": [
    "# merge it to the existing df\n",
    "\n",
    "vaders_df = pd.DataFrame(vader_result).T\n",
    "vaders_df = vaders_df.reset_index().rename(columns={\"index\": \"Id\"})\n",
    "vaders_df = vaders_df.merge(df, how=\"left\")"
   ]
  },
  {
   "cell_type": "code",
   "execution_count": 16,
   "metadata": {},
   "outputs": [
    {
     "data": {
      "text/html": [
       "<div>\n",
       "<style scoped>\n",
       "    .dataframe tbody tr th:only-of-type {\n",
       "        vertical-align: middle;\n",
       "    }\n",
       "\n",
       "    .dataframe tbody tr th {\n",
       "        vertical-align: top;\n",
       "    }\n",
       "\n",
       "    .dataframe thead th {\n",
       "        text-align: right;\n",
       "    }\n",
       "</style>\n",
       "<table border=\"1\" class=\"dataframe\">\n",
       "  <thead>\n",
       "    <tr style=\"text-align: right;\">\n",
       "      <th></th>\n",
       "      <th>Id</th>\n",
       "      <th>neg</th>\n",
       "      <th>neu</th>\n",
       "      <th>pos</th>\n",
       "      <th>compound</th>\n",
       "      <th>ProductId</th>\n",
       "      <th>UserId</th>\n",
       "      <th>ProfileName</th>\n",
       "      <th>HelpfulnessNumerator</th>\n",
       "      <th>HelpfulnessDenominator</th>\n",
       "      <th>Score</th>\n",
       "      <th>Time</th>\n",
       "      <th>Summary</th>\n",
       "      <th>Text</th>\n",
       "    </tr>\n",
       "  </thead>\n",
       "  <tbody>\n",
       "    <tr>\n",
       "      <th>0</th>\n",
       "      <td>1</td>\n",
       "      <td>0.000</td>\n",
       "      <td>0.695</td>\n",
       "      <td>0.305</td>\n",
       "      <td>0.9441</td>\n",
       "      <td>B001E4KFG0</td>\n",
       "      <td>A3SGXH7AUHU8GW</td>\n",
       "      <td>delmartian</td>\n",
       "      <td>1</td>\n",
       "      <td>1</td>\n",
       "      <td>5</td>\n",
       "      <td>1303862400</td>\n",
       "      <td>Good Quality Dog Food</td>\n",
       "      <td>I have bought several of the Vitality canned d...</td>\n",
       "    </tr>\n",
       "    <tr>\n",
       "      <th>1</th>\n",
       "      <td>2</td>\n",
       "      <td>0.138</td>\n",
       "      <td>0.862</td>\n",
       "      <td>0.000</td>\n",
       "      <td>-0.5664</td>\n",
       "      <td>B00813GRG4</td>\n",
       "      <td>A1D87F6ZCVE5NK</td>\n",
       "      <td>dll pa</td>\n",
       "      <td>0</td>\n",
       "      <td>0</td>\n",
       "      <td>1</td>\n",
       "      <td>1346976000</td>\n",
       "      <td>Not as Advertised</td>\n",
       "      <td>Product arrived labeled as Jumbo Salted Peanut...</td>\n",
       "    </tr>\n",
       "    <tr>\n",
       "      <th>2</th>\n",
       "      <td>3</td>\n",
       "      <td>0.091</td>\n",
       "      <td>0.754</td>\n",
       "      <td>0.155</td>\n",
       "      <td>0.8265</td>\n",
       "      <td>B000LQOCH0</td>\n",
       "      <td>ABXLMWJIXXAIN</td>\n",
       "      <td>Natalia Corres \"Natalia Corres\"</td>\n",
       "      <td>1</td>\n",
       "      <td>1</td>\n",
       "      <td>4</td>\n",
       "      <td>1219017600</td>\n",
       "      <td>\"Delight\" says it all</td>\n",
       "      <td>This is a confection that has been around a fe...</td>\n",
       "    </tr>\n",
       "    <tr>\n",
       "      <th>3</th>\n",
       "      <td>4</td>\n",
       "      <td>0.000</td>\n",
       "      <td>1.000</td>\n",
       "      <td>0.000</td>\n",
       "      <td>0.0000</td>\n",
       "      <td>B000UA0QIQ</td>\n",
       "      <td>A395BORC6FGVXV</td>\n",
       "      <td>Karl</td>\n",
       "      <td>3</td>\n",
       "      <td>3</td>\n",
       "      <td>2</td>\n",
       "      <td>1307923200</td>\n",
       "      <td>Cough Medicine</td>\n",
       "      <td>If you are looking for the secret ingredient i...</td>\n",
       "    </tr>\n",
       "    <tr>\n",
       "      <th>4</th>\n",
       "      <td>5</td>\n",
       "      <td>0.000</td>\n",
       "      <td>0.552</td>\n",
       "      <td>0.448</td>\n",
       "      <td>0.9468</td>\n",
       "      <td>B006K2ZZ7K</td>\n",
       "      <td>A1UQRSCLF8GW1T</td>\n",
       "      <td>Michael D. Bigham \"M. Wassir\"</td>\n",
       "      <td>0</td>\n",
       "      <td>0</td>\n",
       "      <td>5</td>\n",
       "      <td>1350777600</td>\n",
       "      <td>Great taffy</td>\n",
       "      <td>Great taffy at a great price.  There was a wid...</td>\n",
       "    </tr>\n",
       "  </tbody>\n",
       "</table>\n",
       "</div>"
      ],
      "text/plain": [
       "   Id    neg    neu    pos  compound   ProductId          UserId  \\\n",
       "0   1  0.000  0.695  0.305    0.9441  B001E4KFG0  A3SGXH7AUHU8GW   \n",
       "1   2  0.138  0.862  0.000   -0.5664  B00813GRG4  A1D87F6ZCVE5NK   \n",
       "2   3  0.091  0.754  0.155    0.8265  B000LQOCH0   ABXLMWJIXXAIN   \n",
       "3   4  0.000  1.000  0.000    0.0000  B000UA0QIQ  A395BORC6FGVXV   \n",
       "4   5  0.000  0.552  0.448    0.9468  B006K2ZZ7K  A1UQRSCLF8GW1T   \n",
       "\n",
       "                       ProfileName  HelpfulnessNumerator  \\\n",
       "0                       delmartian                     1   \n",
       "1                           dll pa                     0   \n",
       "2  Natalia Corres \"Natalia Corres\"                     1   \n",
       "3                             Karl                     3   \n",
       "4    Michael D. Bigham \"M. Wassir\"                     0   \n",
       "\n",
       "   HelpfulnessDenominator  Score        Time                Summary  \\\n",
       "0                       1      5  1303862400  Good Quality Dog Food   \n",
       "1                       0      1  1346976000      Not as Advertised   \n",
       "2                       1      4  1219017600  \"Delight\" says it all   \n",
       "3                       3      2  1307923200         Cough Medicine   \n",
       "4                       0      5  1350777600            Great taffy   \n",
       "\n",
       "                                                Text  \n",
       "0  I have bought several of the Vitality canned d...  \n",
       "1  Product arrived labeled as Jumbo Salted Peanut...  \n",
       "2  This is a confection that has been around a fe...  \n",
       "3  If you are looking for the secret ingredient i...  \n",
       "4  Great taffy at a great price.  There was a wid...  "
      ]
     },
     "execution_count": 16,
     "metadata": {},
     "output_type": "execute_result"
    }
   ],
   "source": [
    "vaders_df.head()"
   ]
  },
  {
   "attachments": {},
   "cell_type": "markdown",
   "metadata": {},
   "source": [
    "### Plot the VADER results\n",
    "\n",
    "Reading data like that is not that helpful, so let's plot the data to see any correlations."
   ]
  },
  {
   "cell_type": "code",
   "execution_count": 18,
   "metadata": {},
   "outputs": [
    {
     "data": {
      "image/png": "[encoded data removed]",
      "text/plain": [
       "<Figure size 640x480 with 1 Axes>"
      ]
     },
     "metadata": {},
     "output_type": "display_data"
    }
   ],
   "source": [
    "axes = sns.barplot(data=vaders_df, x=\"Score\", y=\"compound\")\n",
    "axes.set_title(\"Amazon Star Reviews against Compound Scores\")\n",
    "plt.show()"
   ]
  },
  {
   "attachments": {},
   "cell_type": "markdown",
   "metadata": {},
   "source": [
    "Now that's what I would call a trend: The positivity of the compound scores is clearly declining with the amount of stars given by the reviewer!\n",
    "Okay, that was to be expected but can we see a similar trend if we're comparing each annotation separately?"
   ]
  },
  {
   "cell_type": "code",
   "execution_count": 19,
   "metadata": {},
   "outputs": [
    {
     "data": {
      "image/png": "[encoded data removed]",
      "text/plain": [
       "<Figure size 1200x300 with 3 Axes>"
      ]
     },
     "metadata": {},
     "output_type": "display_data"
    }
   ],
   "source": [
    "fig, axs = plt.subplots(1, 3, figsize=(12, 3))\n",
    "sns.barplot(data=vaders_df, x='Score', y='pos', ax=axs[0])\n",
    "sns.barplot(data=vaders_df, x='Score', y='neu', ax=axs[1])\n",
    "sns.barplot(data=vaders_df, x='Score', y='neg', ax=axs[2])\n",
    "axs[0].set_title('Positive')\n",
    "axs[1].set_title('Neutral')\n",
    "axs[2].set_title('Negative')\n",
    "plt.tight_layout()\n",
    "plt.show()"
   ]
  },
  {
   "attachments": {},
   "cell_type": "markdown",
   "metadata": {},
   "source": [
    "And again, a clear trend:\n",
    "1. The positive scores are (of course) highest in the 5 star reviews and lowest in the 1 star reviews with a steady decline.\n",
    "2. The neutral scores are greatest in the 1 star reviews, although the difference between the groups is pretty negligable.\n",
    "3. The negative scores are again highest in the 1 star reviews with very little negativity in the 5 star reviews.\n",
    "\n",
    "\n",
    "## Using pretrained Roberta Models\n"
   ]
  }
 ],
 "metadata": {
  "kernelspec": {
   "display_name": "Python 3",
   "language": "python",
   "name": "python3"
  },
  "language_info": {
   "codemirror_mode": {
    "name": "ipython",
    "version": 3
   },
   "file_extension": ".py",
   "mimetype": "text/x-python",
   "name": "python",
   "nbconvert_exporter": "python",
   "pygments_lexer": "ipython3",
   "version": "3.11.0"
  },
  "orig_nbformat": 4,
  "vscode": {
   "interpreter": {
    "hash": "c261aea317cc0286b3b3261fbba9abdec21eaa57589985bb7a274bf54d6cc0a7"
   }
  }
 },
 "nbformat": 4,
 "nbformat_minor": 2
}
